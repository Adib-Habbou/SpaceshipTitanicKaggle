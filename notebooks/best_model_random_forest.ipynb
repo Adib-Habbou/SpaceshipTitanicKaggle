{
  "nbformat": 4,
  "nbformat_minor": 0,
  "metadata": {
    "colab": {
      "provenance": []
    },
    "kernelspec": {
      "name": "python3",
      "display_name": "Python 3"
    },
    "language_info": {
      "name": "python"
    }
  },
  "cells": [
    {
      "cell_type": "code",
      "execution_count": 1,
      "metadata": {
        "id": "VfETQquOkkCi"
      },
      "outputs": [],
      "source": [
        "import numpy as np\n",
        "import pandas as pd\n",
        "from sklearn.model_selection import train_test_split\n",
        "from sklearn.metrics import accuracy_score"
      ]
    },
    {
      "cell_type": "code",
      "source": [
        "train = pd.read_csv(\"final_train.csv\", index_col=[0])\n",
        "test = pd.read_csv(\"final_test.csv\", index_col=[0])"
      ],
      "metadata": {
        "id": "wWpJTHVTknSl"
      },
      "execution_count": 2,
      "outputs": []
    },
    {
      "cell_type": "code",
      "source": [
        "X = train[[\"PassengerId\", \"HomePlanet\", \"CryoSleep\", \"CabinDeck\", \"CabinNum\", \"CabinSide\", \"Destination\", \"Age\", \"VIP\", \"RoomService\", \"FoodCourt\", \"ShoppingMall\", \"Spa\", \"VRDeck\", \"Name\"]]\n",
        "y = train[\"Transported\"]\n",
        "X_train, X_test, y_train, y_test = train_test_split(X, y, test_size = 0.2, random_state = 10)"
      ],
      "metadata": {
        "id": "i7GCHRdJkps_"
      },
      "execution_count": 3,
      "outputs": []
    },
    {
      "cell_type": "code",
      "source": [
        "# Create a mapping from unique names and id to unique integers\n",
        "names = pd.concat([X, test], axis=0)['Name'].unique()\n",
        "name_to_int = {name: i for i, name in enumerate(names)}\n",
        "\n",
        "# Map the \"Name\" and \"PassengerId\" column to integer values\n",
        "X_train['Name'] = X_train['Name'].map(name_to_int)\n",
        "X_test['Name'] = X_test['Name'].map(name_to_int)\n",
        "test['Name'] = test['Name'].map(name_to_int)"
      ],
      "metadata": {
        "id": "ezhqdHfkopt_"
      },
      "execution_count": 4,
      "outputs": []
    },
    {
      "cell_type": "code",
      "source": [
        "from sklearn.preprocessing import LabelEncoder\n",
        "\n",
        "# Instanciation des objets LabelEncoder\n",
        "le_homeplanet = LabelEncoder()\n",
        "le_cabindeck = LabelEncoder()\n",
        "le_cabinside = LabelEncoder()\n",
        "le_destination = LabelEncoder()\n",
        "\n",
        "# Transformation des variables qualitatives en numériques à l'aide de label encoding\n",
        "X_train['HomePlanet'] = le_homeplanet.fit_transform(X_train['HomePlanet'].astype(str))\n",
        "X_train['CabinDeck'] = le_cabindeck.fit_transform(X_train['CabinDeck'].astype(str))\n",
        "X_train['CabinSide'] = le_cabinside.fit_transform(X_train['CabinSide'].astype(str))\n",
        "X_train['Destination'] = le_destination.fit_transform(X_train['Destination'].astype(str))\n",
        "\n",
        "# Transformation des données de test\n",
        "X_test['HomePlanet'] = le_homeplanet.transform(X_test['HomePlanet'].astype(str))\n",
        "X_test['CabinDeck'] = le_cabindeck.transform(X_test['CabinDeck'].astype(str))\n",
        "X_test['CabinSide'] = le_cabinside.transform(X_test['CabinSide'].astype(str))\n",
        "X_test['Destination'] = le_destination.transform(X_test['Destination'].astype(str))\n",
        "\n",
        "# Transformation des données de test pour submissions\n",
        "test['HomePlanet'] = le_homeplanet.transform(test['HomePlanet'].astype(str))\n",
        "test['CabinDeck'] = le_cabindeck.transform(test['CabinDeck'].astype(str))\n",
        "test['CabinSide'] = le_cabinside.transform(test['CabinSide'].astype(str))\n",
        "test['Destination'] = le_destination.transform(test['Destination'].astype(str))"
      ],
      "metadata": {
        "id": "0jEifAlQkuC8"
      },
      "execution_count": 5,
      "outputs": []
    },
    {
      "cell_type": "code",
      "source": [
        "X = pd.concat([X_train, X_test], axis=0)\n",
        "y = pd.concat([y_train, y_test], axis=0)"
      ],
      "metadata": {
        "id": "E48HT8KPvWp9"
      },
      "execution_count": 6,
      "outputs": []
    },
    {
      "cell_type": "code",
      "source": [
        "from sklearn.ensemble import RandomForestClassifier\n",
        "\n",
        "# Initialisation du modèle Random Forest\n",
        "optimized_model = RandomForestClassifier(n_estimators=600, max_depth=40, min_samples_split=15, min_samples_leaf=4, max_features='log2')\n",
        "\n",
        "# Entraînement du modèle sur les données d'entraînement\n",
        "optimized_model.fit(X_train, y_train)\n",
        "\n",
        "# Utilisation des meilleurs hyperparamètres pour faire des prédictions sur les données de test\n",
        "y_pred = optimized_model.predict(X_test)\n",
        "\n",
        "# Calcul de l'accuracy du modèle\n",
        "accuracy = accuracy_score(y_test, y_pred)\n",
        "\n",
        "# Affichage de l'accuracy du modèle\n",
        "print(\"Accuracy Random Forest :\", accuracy)"
      ],
      "metadata": {
        "colab": {
          "base_uri": "https://localhost:8080/"
        },
        "id": "rIn82YB-xltA",
        "outputId": "f1eeb62c-6da4-439c-b87a-fae82017e140"
      },
      "execution_count": 19,
      "outputs": [
        {
          "output_type": "stream",
          "name": "stdout",
          "text": [
            "Accuracy Random Forest : 0.80448533640023\n"
          ]
        }
      ]
    }
  ]
}