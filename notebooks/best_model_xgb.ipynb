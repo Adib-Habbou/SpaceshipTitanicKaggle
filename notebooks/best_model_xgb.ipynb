{
  "nbformat": 4,
  "nbformat_minor": 0,
  "metadata": {
    "colab": {
      "provenance": []
    },
    "kernelspec": {
      "name": "python3",
      "display_name": "Python 3"
    },
    "language_info": {
      "name": "python"
    }
  },
  "cells": [
    {
      "cell_type": "code",
      "execution_count": 1,
      "metadata": {
        "id": "VfETQquOkkCi"
      },
      "outputs": [],
      "source": [
        "import numpy as np\n",
        "import pandas as pd\n",
        "from sklearn.model_selection import train_test_split\n",
        "from sklearn.metrics import accuracy_score"
      ]
    },
    {
      "cell_type": "code",
      "source": [
        "train = pd.read_csv(\"final_train.csv\", index_col=[0])\n",
        "test = pd.read_csv(\"final_test.csv\", index_col=[0])"
      ],
      "metadata": {
        "id": "wWpJTHVTknSl"
      },
      "execution_count": 2,
      "outputs": []
    },
    {
      "cell_type": "code",
      "source": [
        "X = train[[\"PassengerId\", \"Solo\", \"FamilySize\", \"HomePlanet\", \"CryoSleep\", \n",
        "           \"CabinDeck\", \"CabinNum\", \"CabinSide\", \"Destination\", \"Age\", \n",
        "           \"AgeRange\", \"VIP\", \"RoomService\", \"FoodCourt\", \"ShoppingMall\", \n",
        "           \"Spa\", \"VRDeck\", \"Expenses\", \"Spending\", \"Name\"]]\n",
        "y = train[\"Transported\"]\n",
        "X_train, X_test, y_train, y_test = train_test_split(X, y, test_size = 0.2, random_state = 10)"
      ],
      "metadata": {
        "id": "i7GCHRdJkps_"
      },
      "execution_count": 3,
      "outputs": []
    },
    {
      "cell_type": "code",
      "source": [
        "# Create a mapping from unique names and id to unique integers\n",
        "names = pd.concat([X, test], axis=0)['Name'].unique()\n",
        "name_to_int = {name: i for i, name in enumerate(names)}\n",
        "\n",
        "# Map the \"Name\" and \"PassengerId\" column to integer values\n",
        "X_train['Name'] = X_train['Name'].map(name_to_int)\n",
        "X_test['Name'] = X_test['Name'].map(name_to_int)\n",
        "test['Name'] = test['Name'].map(name_to_int)"
      ],
      "metadata": {
        "id": "ezhqdHfkopt_"
      },
      "execution_count": 4,
      "outputs": []
    },
    {
      "cell_type": "code",
      "source": [
        "from sklearn.preprocessing import LabelEncoder\n",
        "\n",
        "# Instanciation des objets LabelEncoder\n",
        "le_homeplanet = LabelEncoder()\n",
        "le_cabindeck = LabelEncoder()\n",
        "le_cabinside = LabelEncoder()\n",
        "le_destination = LabelEncoder()\n",
        "\n",
        "# Transformation des variables qualitatives en numériques à l'aide de label encoding\n",
        "X_train['HomePlanet'] = le_homeplanet.fit_transform(X_train['HomePlanet'].astype(str))\n",
        "X_train['CabinDeck'] = le_cabindeck.fit_transform(X_train['CabinDeck'].astype(str))\n",
        "X_train['CabinSide'] = le_cabinside.fit_transform(X_train['CabinSide'].astype(str))\n",
        "X_train['Destination'] = le_destination.fit_transform(X_train['Destination'].astype(str))\n",
        "\n",
        "# Transformation des données de test\n",
        "X_test['HomePlanet'] = le_homeplanet.transform(X_test['HomePlanet'].astype(str))\n",
        "X_test['CabinDeck'] = le_cabindeck.transform(X_test['CabinDeck'].astype(str))\n",
        "X_test['CabinSide'] = le_cabinside.transform(X_test['CabinSide'].astype(str))\n",
        "X_test['Destination'] = le_destination.transform(X_test['Destination'].astype(str))\n",
        "\n",
        "# Transformation des données de test pour submissions\n",
        "test['HomePlanet'] = le_homeplanet.transform(test['HomePlanet'].astype(str))\n",
        "test['CabinDeck'] = le_cabindeck.transform(test['CabinDeck'].astype(str))\n",
        "test['CabinSide'] = le_cabinside.transform(test['CabinSide'].astype(str))\n",
        "test['Destination'] = le_destination.transform(test['Destination'].astype(str))"
      ],
      "metadata": {
        "id": "0jEifAlQkuC8"
      },
      "execution_count": 5,
      "outputs": []
    },
    {
      "cell_type": "code",
      "source": [
        "X = pd.concat([X_train, X_test], axis=0)\n",
        "y = pd.concat([y_train, y_test], axis=0)"
      ],
      "metadata": {
        "id": "E48HT8KPvWp9"
      },
      "execution_count": 6,
      "outputs": []
    },
    {
      "cell_type": "code",
      "source": [
        "selected_features = [\"Solo\", \"HomePlanet\", \"CryoSleep\", \n",
        "                    \"CabinDeck\", \"CabinNum\", \"CabinSide\", \n",
        "                    \"Destination\", \"Age\", \"VIP\", \"RoomService\", \n",
        "                    \"FoodCourt\", \"ShoppingMall\", \"Spa\", \"VRDeck\", \n",
        "                    \"Spending\", \"Name\"]\n",
        "\n",
        "# not selected : Spending, AgeRange, FamilySize"
      ],
      "metadata": {
        "id": "NZACnFBgs2dR"
      },
      "execution_count": 7,
      "outputs": []
    },
    {
      "cell_type": "code",
      "source": [
        "import xgboost as xgb\n",
        "\n",
        "optimized_model = xgb.XGBClassifier(base_score=0.5, booster='gbtree', colsample_bylevel=1, colsample_bynode=1,\n",
        "                                    colsample_bytree=0.8, enable_categorical=False, gamma=5, importance_type=None, \n",
        "                                    interaction_constraints='', learning_rate=0.02,  max_delta_step=0, max_depth=300, \n",
        "                                    min_child_weight=7, n_estimators=803, n_jobs=1, nthread=1, num_parallel_tree=1,\n",
        "                                    random_state=0, reg_alpha=0, reg_lambda=1, scale_pos_weight=1, silent=True,\n",
        "                                    tree_method='exact', validate_parameters=1, alpha=0.001)\n",
        "\n",
        "# Entraînement du modèle sur les données d'entraînement\n",
        "optimized_model.fit(X_train[selected_features], y_train)\n",
        "\n",
        "# Utilisation des meilleurs hyperparamètres pour faire des prédictions sur les données de test\n",
        "y_pred = optimized_model.predict(X_test[selected_features])\n",
        "\n",
        "# Calcul de l'accuracy du modèle\n",
        "accuracy = accuracy_score(y_test, y_pred)\n",
        "\n",
        "# Affichage de l'accuracy du modèle\n",
        "print(\"Accuracy XGBoost :\", accuracy)"
      ],
      "metadata": {
        "colab": {
          "base_uri": "https://localhost:8080/"
        },
        "id": "rIn82YB-xltA",
        "outputId": "cad0c23b-775b-4779-ca06-5fda12a52d16"
      },
      "execution_count": 9,
      "outputs": [
        {
          "output_type": "stream",
          "name": "stdout",
          "text": [
            "Accuracy XGBoost : 0.8085106382978723\n"
          ]
        }
      ]
    },
    {
      "cell_type": "code",
      "source": [
        "# Prédiction avec le modèle\n",
        "model_pred = optimized_model.predict(test[selected_features])\n",
        "# créer un DataFrame à partir des identifiants des passagers et des prédictions\n",
        "result_model = pd.DataFrame({'PassengerId': test['PassengerId'], 'Transported': model_pred})\n",
        "# transformer les valeurs booleennes en chaînes de caractères \"True\" ou \"False\"\n",
        "result_model['Transported'] = result_model['Transported'].astype(str)\n",
        "result_model['Transported'] = result_model['Transported'].replace({'0': 'False', '1': 'True'})\n",
        "# enregistrer les résultats dans un fichier CSV\n",
        "result_model.to_csv('submissions.csv', index=False, columns=['PassengerId', 'Transported'])"
      ],
      "metadata": {
        "id": "HHZprFCbsZ7g"
      },
      "execution_count": null,
      "outputs": []
    }
  ]
}